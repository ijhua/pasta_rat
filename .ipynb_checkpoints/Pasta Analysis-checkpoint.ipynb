{
 "cells": [
  {
   "cell_type": "code",
   "execution_count": 1,
   "metadata": {
    "collapsed": true
   },
   "outputs": [],
   "source": [
    "#%matplotlib inline\n",
    "import pandas as pd\n",
    "import numpy as np\n",
    "import os\n",
    "from os.path import basename\n",
    "import datetime\n",
    "from datetime import datetime\n",
    "import matplotlib.pyplot as plt"
   ]
  },
  {
   "cell_type": "code",
   "execution_count": 2,
   "metadata": {
    "collapsed": true
   },
   "outputs": [],
   "source": [
    "path = r'/Users/mathuser/Documents/Perl Lab Rat Data/Bethany_Pasta'"
   ]
  },
  {
   "cell_type": "code",
   "execution_count": 3,
   "metadata": {},
   "outputs": [
    {
     "name": "stdout",
     "output_type": "stream",
     "text": [
      "A17\n",
      "A01\n",
      "A09\n",
      "A08\n",
      "A04\n",
      "A10\n",
      "A05\n",
      "A12\n",
      "B06\n",
      "AA01\n",
      "B04\n",
      "AA06\n",
      "A02\n",
      "A08repeat\n",
      "A09repeat\n",
      "A05repeat\n",
      "A12repeat\n"
     ]
    }
   ],
   "source": [
    "files = {}\n",
    "for filename in os.listdir(path):\n",
    "    if filename.startswith(\".\"):\n",
    "        continue\n",
    "    #very important for the subject id to be the 4th thing in the file name, and for there only to be 2 columns. \n",
    "    subject_id = (filename.split(\".\")[0]).split(\"_\")[3]\n",
    "    #bring in the csv, only take first 2 columns, delete rows with empty values\n",
    "    df = pd.read_csv(path + \"//\"+ filename, header=None, names=[\"col0\",\"col1\"]).dropna(axis=0, how=\"any\")\n",
    "    #reshape dataframe so that score, date, time, and initial are columns\n",
    "    df2 = pd.DataFrame(df[\"col1\"].values.reshape(-1,4), columns=[\"Score\",\"Date\",\"Time ended\", \"Initial\"])\n",
    "    if subject_id in files.keys():\n",
    "        files[subject_id] = files[subject_id].append(df2)\n",
    "        print(subject_id+\"repeat\")\n",
    "    else:\n",
    "        files[subject_id] = df2\n",
    "        print(subject_id)\n",
    "    #save as new CSV\n",
    "    df2 = files[subject_id]\n",
    "    df2.to_csv(\"/Users/mathuser/Documents/Perl Lab Rat Data/reshape/\"+ subject_id + \"_reshaped.csv\")\n"
   ]
  },
  {
   "cell_type": "code",
   "execution_count": 4,
   "metadata": {},
   "outputs": [
    {
     "name": "stdout",
     "output_type": "stream",
     "text": [
      "B06Done!\n",
      "A12Done!\n",
      "AA01Done!\n",
      "AA06Done!\n",
      "A01Done!\n",
      "A04Done!\n",
      "A05Done!\n",
      "A02Done!\n",
      "A17Done!\n",
      "A10Done!\n",
      "B04Done!\n",
      "A08Done!\n",
      "A09Done!\n"
     ]
    }
   ],
   "source": [
    "path2 = \"/Users/mathuser/Documents/Perl Lab Rat Data/reshape/\"\n",
    "for filename in os.listdir(path2):\n",
    "    if filename.startswith(\".\"):\n",
    "        continue\n",
    "    subject_id = (filename.split(\".\")[0]).split(\"_\")[0]\n",
    "    df3 = pd.read_csv(path2 + \"//\" + filename, header = 0, names = [\"Score\",\"Date\",\"Time ended\",\"Initial\"])\n",
    "    df4 = df3.assign(Delta=\"NaN\")\n",
    "    #find difference between days\n",
    "    for x in range(len(df3)):\n",
    "        df4.iloc[x,4]=(datetime.strptime(df3.iloc[x,1],\"%m/%d/%y\")-datetime.strptime(df3.iloc[0,1],\"%m/%d/%y\")).days\n",
    "    #calculate week\n",
    "    df4 = df4.assign(Week = \"NaN\")\n",
    "    for x in range(len(df3)):\n",
    "        df4.iloc[x,5] = int(df4.iloc[x,4]/5)\n",
    "    #mean score of each week\n",
    "    df5 = df4\n",
    "    df5[\"Score\"]=df5[\"Score\"].astype(\"int\")\n",
    "    df5 = df4.groupby(\"Week\",as_index=False)[\"Score\"].mean()\n",
    "    df5.to_csv(\"/Users/mathuser/Documents/Perl Lab Rat Data/pasta_mean/\"+ subject_id + \"_pasta_mean.csv\")\n",
    "    #make a scatter plot\n",
    "    graph = df5.plot(kind=\"scatter\", x=\"Week\", y=\"Score\",title = subject_id)\n",
    "    fig = graph.get_figure()\n",
    "    fig.savefig(\"/Users/mathuser/Documents/Perl Lab Rat Data/graphs/\"+subject_id+\"_plot.png\")\n",
    "    plt.close(\"all\")\n",
    "    print(subject_id + \"Done!\")"
   ]
  },
  {
   "cell_type": "code",
   "execution_count": 5,
   "metadata": {},
   "outputs": [
    {
     "data": {
      "text/plain": [
       "'A09_reshaped.csv'"
      ]
     },
     "execution_count": 5,
     "metadata": {},
     "output_type": "execute_result"
    }
   ],
   "source": [
    "filename"
   ]
  },
  {
   "cell_type": "code",
   "execution_count": null,
   "metadata": {
    "collapsed": true
   },
   "outputs": [],
   "source": []
  }
 ],
 "metadata": {
  "kernelspec": {
   "display_name": "Python 3",
   "language": "python",
   "name": "python3"
  },
  "language_info": {
   "codemirror_mode": {
    "name": "ipython",
    "version": 3
   },
   "file_extension": ".py",
   "mimetype": "text/x-python",
   "name": "python",
   "nbconvert_exporter": "python",
   "pygments_lexer": "ipython3",
   "version": "3.6.3"
  }
 },
 "nbformat": 4,
 "nbformat_minor": 2
}
