{
 "cells": [
  {
   "cell_type": "code",
   "execution_count": null,
   "metadata": {
    "collapsed": true
   },
   "outputs": [],
   "source": [
    "%matplotlib inline\n",
    "import pandas as pd\n",
    "import numpy as np\n",
    "import os\n",
    "import datetime\n",
    "from datetime import datetime\n",
    "import matplotlib.pyplot as plt"
   ]
  },
  {
   "cell_type": "code",
   "execution_count": null,
   "metadata": {
    "collapsed": true
   },
   "outputs": [],
   "source": [
    "path = r'/Users/mathuser/Documents/Perl Lab Rat Data/Bethany_Pasta'"
   ]
  },
  {
   "cell_type": "code",
   "execution_count": null,
   "metadata": {},
   "outputs": [],
   "source": [
    "files = {}\n",
    "for filename in os.listdir(path):\n",
    "    if filename.startswith(\".\"):\n",
    "        continue\n",
    "    subject_id = filename.split(\"_\")[0]\n",
    "    #bring in the csv, only take first 2 columns, delete rows with empty values\n",
    "    df = pd.read_csv(path + \"//\"+ filename, header=None, names=[\"col0\",\"col1\"]).dropna(axis=0, how=\"any\")\n",
    "    #reshape dataframe so that score, date, time, and initial are columns\n",
    "    df2 = pd.DataFrame(df[\"col1\"].values.reshape(-1,4), columns=[\"Score\",\"Date\",\"Time ended\", \"Initial\"])\n",
    "    if subject_id in files.keys():\n",
    "        files[subject_id] = files[subject_id].append(df2)\n",
    "    else:\n",
    "        files[subject_id] = df2\n",
    "    #save as new CSV\n",
    "    df2.to_csv(\"/Users/mathuser/Documents/Perl Lab Rat Data/reshape/\"+ subject_id + \"_reshaped.csv\")\n",
    "    df3=df2.assign(Delta=\"NaN\")\n",
    "    \n",
    "    #find difference between days\n",
    "    for x in range(len(df3)):\n",
    "        df3.iloc[x,4]=(datetime.strptime(df2.iloc[x,1],\"%m/%d/%y\")-datetime.strptime(df2.iloc[0,1],\"%m/%d/%y\")).days\n",
    "    #calculate week\n",
    "    df3 = df3.assign(Week = \"NaN\")\n",
    "    for x in range(len(df3)):\n",
    "        df3.iloc[x,5] = int(df3.iloc[x,4]/5)\n",
    "    #mean score of each week\n",
    "    df4 = df3\n",
    "    df4[\"Score\"]=df4[\"Score\"].astype(\"int\")\n",
    "    df4 = df3.groupby(\"Week\",as_index=False)[\"Score\"].mean()\n",
    "    df4.to_csv(\"/Users/mathuser/Documents/Perl Lab Rat Data/pasta_mean/\"+ subject_id + \"_pasta_mean.csv\")\n",
    "    #make a scatter plot\n",
    "    graph = df4.plot(kind=\"scatter\", x=\"Week\", y=\"Score\",title = subject_id)\n",
    "    fig = graph.get_figure()\n",
    "    fig.savefig(\"/Users/mathuser/Documents/Perl Lab Rat Data/graphs/\"+subject_id+\"_plot.png\")"
   ]
  },
  {
   "cell_type": "code",
   "execution_count": null,
   "metadata": {},
   "outputs": [],
   "source": []
  },
  {
   "cell_type": "code",
   "execution_count": null,
   "metadata": {
    "collapsed": true
   },
   "outputs": [],
   "source": []
  }
 ],
 "metadata": {
  "kernelspec": {
   "display_name": "Python 3",
   "language": "python",
   "name": "python3"
  },
  "language_info": {
   "codemirror_mode": {
    "name": "ipython",
    "version": 3
   },
   "file_extension": ".py",
   "mimetype": "text/x-python",
   "name": "python",
   "nbconvert_exporter": "python",
   "pygments_lexer": "ipython3",
   "version": "3.6.3"
  }
 },
 "nbformat": 4,
 "nbformat_minor": 2
}
