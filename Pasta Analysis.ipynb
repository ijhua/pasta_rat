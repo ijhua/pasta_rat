{
 "cells": [
  {
   "cell_type": "code",
   "execution_count": 18,
   "metadata": {
    "collapsed": true
   },
   "outputs": [],
   "source": [
    "#%matplotlib inline\n",
    "import pandas as pd\n",
    "import numpy as np\n",
    "import os\n",
    "from os.path import basename\n",
    "import datetime\n",
    "from datetime import datetime, timedelta\n",
    "import matplotlib.pyplot as plt\n",
    "import glob"
   ]
  },
  {
   "cell_type": "code",
   "execution_count": 3,
   "metadata": {
    "collapsed": true
   },
   "outputs": [],
   "source": [
    "path = r'/Users/mathuser/Documents/Perl Lab Rat Data/Bethany_Pasta'"
   ]
  },
  {
   "cell_type": "code",
   "execution_count": 4,
   "metadata": {},
   "outputs": [
    {
     "name": "stdout",
     "output_type": "stream",
     "text": [
      "A02\n",
      "A17\n",
      "AA06\n",
      "A01\n",
      "A09\n",
      "A08\n",
      "AA05\n",
      "AA01\n",
      "A04\n",
      "A10\n",
      "A05\n",
      "A12\n",
      "B06\n",
      "B06repeat\n",
      "AA01repeat\n",
      "B04\n",
      "B04repeat\n",
      "AA06repeat\n",
      "A02repeat\n",
      "A10repeat\n",
      "A04repeat\n",
      "A08repeat\n",
      "A09repeat\n",
      "A01repeat\n",
      "A05repeat\n",
      "A12repeat\n",
      "A17repeat\n"
     ]
    }
   ],
   "source": [
    "files = {}\n",
    "for filename in os.listdir(path):\n",
    "    if filename.startswith(\".\"):\n",
    "        continue\n",
    "    #very important for the subject id to be the 4th thing in the file name, and for there only to be 2 columns. \n",
    "    subject_id = (filename.split(\".\")[0]).split(\"_\")[3]\n",
    "    #bring in the csv, only take first 2 columns, delete rows with empty values\n",
    "    df = pd.read_csv(path + \"//\"+ filename, header=None, names=[\"col0\",\"col1\"]).dropna(axis=0, how=\"any\")\n",
    "    #reshape dataframe so that score, date, time, and initial are columns\n",
    "    df2 = pd.DataFrame(df[\"col1\"].values.reshape(-1,4), columns=[\"Score\",\"Date\",\"Time ended\", \"Initial\"])\n",
    "    if subject_id in files.keys():\n",
    "        files[subject_id] = files[subject_id].append(df2)\n",
    "        print(subject_id+\"repeat\")\n",
    "    else:\n",
    "        files[subject_id] = df2\n",
    "        print(subject_id)\n",
    "    #save as new CSV\n",
    "    df2 = files[subject_id]\n",
    "    df2.to_csv(\"/Users/mathuser/Documents/Perl Lab Rat Data/reshape/\"+ subject_id + \"_reshaped.csv\")"
   ]
  },
  {
   "cell_type": "code",
   "execution_count": 5,
   "metadata": {
    "collapsed": true,
    "scrolled": false
   },
   "outputs": [],
   "source": [
    "path2 = \"/Users/mathuser/Documents/Perl Lab Rat Data/reshape/\"\n",
    "#includes all data, including training.\n",
    "for filename in os.listdir(path2):\n",
    "    if filename.startswith(\".\"):\n",
    "        continue\n",
    "    subject_id = (filename.split(\".\")[0]).split(\"_\")[0]\n",
    "    df3 = pd.read_csv(path2 + \"//\" + filename, header = 0, names = [\"Score\",\"Date\",\"Time ended\",\"Initial\"])\n",
    "    df4 = df3.assign(Delta=\"NaN\")\n",
    "    #find difference between days\n",
    "    for x in range(len(df3)):\n",
    "        df4.iloc[x,4]=(datetime.strptime(df3.iloc[x,1],\"%m/%d/%y\")-datetime.strptime(min(df3[\"Date\"]),\"%m/%d/%y\")).days\n",
    "    #calculate week\n",
    "    df4 = df4.assign(Week = \"NaN\")\n",
    "    for x in range(len(df3)):\n",
    "        df4.iloc[x,5] = int(df4.iloc[x,4]/5)\n",
    "    #mean score of each week\n",
    "    df5 = df4\n",
    "    df5[\"Score\"]=df5[\"Score\"].astype(\"int\")\n",
    "    df5 = df4.groupby(\"Week\",as_index=False)[\"Score\"].mean()\n",
    "    df5.to_csv(\"/Users/mathuser/Documents/Perl Lab Rat Data/pasta_mean/\"+ subject_id + \"_pasta_mean.csv\")\n",
    "    #make a scatter plot\n",
    "    graph = df5.plot(kind=\"scatter\", x=\"Week\", y=\"Score\",title = subject_id)\n",
    "    fig = graph.get_figure()\n",
    "    fig.savefig(\"/Users/mathuser/Documents/Perl Lab Rat Data/graphs/\"+subject_id+\"_plot.png\")\n",
    "    plt.close(\"all\")"
   ]
  },
  {
   "cell_type": "code",
   "execution_count": 15,
   "metadata": {
    "scrolled": false
   },
   "outputs": [],
   "source": [
    "#take into account the date of injury\n",
    "path2 = \"/Users/mathuser/Documents/Perl Lab Rat Data/reshape/\"\n",
    "refpath = \"/Users/mathuser/Documents/Perl Lab Rat Data\"\n",
    "for filename in os.listdir(path2):\n",
    "    if filename.startswith(\".\"):\n",
    "        continue\n",
    "    subject_id = (filename.split(\".\")[0]).split(\"_\")[0]\n",
    "    #skip AA05 because there's only 1 data point right now\n",
    "    if subject_id == \"AA05\":\n",
    "        continue\n",
    "    refdf = pd.read_csv(refpath + \"//subject_ref.csv\", header = 0)\n",
    "    injure_date = datetime.strptime(refdf[refdf.subject_id.isin([subject_id])].iloc[0,2],\"%m/%d/%y\")\n",
    "    #currently, most of the baseline week only has 2-3 days, so I'm just going to keep it the way it is\n",
    "    #Monday\n",
    "    if injure_date.weekday()==0:\n",
    "        baseline = injure_date - timedelta(days=7)\n",
    "    #Tuesday\n",
    "    elif injure_date.weekday()==1:\n",
    "        baseline = injure_date - timedelta(days=8)\n",
    "    #Wednesday\n",
    "    elif injure_date.weekday()==2:\n",
    "        baseline = injure_date - timedelta(days=9)\n",
    "    #Thursday\n",
    "    elif injure_date.weekday()==3:\n",
    "        baseline = injure_date - timedelta(days=10)\n",
    "    #Friday\n",
    "    elif injure_date.weekday()==4:\n",
    "        baseline = injure_date - timedelta(days=11)\n",
    "    else:\n",
    "        print(\"Not a weekday \"+subject_id)\n",
    "        continue\n",
    "    datadf = pd.read_csv(path2 + \"//\" + subject_id + \"_reshaped.csv\", header = 0, names = [\"Score\",\"Date\",\"Time ended\",\"Initial\"])\n",
    "    if pd.isnull(refdf[refdf.subject_id.isin([subject_id])].iloc[0,5]):\n",
    "        end_date = datetime.strptime(max(datadf[\"Date\"]),\"%m/%d/%y\")\n",
    "    else:\n",
    "        end_date = datetime.strptime(refdf[refdf.subject_id.isin([subject_id])].iloc[0,5],\"%m/%d/%y\")\n",
    "    datadf['Date'] = pd.to_datetime(datadf['Date'])  \n",
    "    mask = (datadf['Date'] > baseline) & (datadf['Date'] <= end_date)\n",
    "    datadf = datadf.loc[mask]\n",
    "    datadf = datadf.reset_index(drop=True)\n",
    "    datadf.to_csv(refpath+\"/date_restricted/\"+subject_id+\"_date_restricted.csv\")"
   ]
  },
  {
   "cell_type": "code",
   "execution_count": 16,
   "metadata": {},
   "outputs": [
    {
     "name": "stdout",
     "output_type": "stream",
     "text": [
      "Done!\n"
     ]
    }
   ],
   "source": [
    "#mean calculations with cut data\n",
    "path3 = \"/Users/mathuser/Documents/Perl Lab Rat Data/date_restricted/\"\n",
    "for filename in os.listdir(path3):\n",
    "    if filename.startswith(\".\"):\n",
    "        continue\n",
    "    subject_id = (filename.split(\".\")[0]).split(\"_\")[0]\n",
    "    #skip these IDs for now because files are empty\n",
    "    #if subject_id == \"B04\" or subject_id ==\"AA06\" or subject_id == \"AA01\" or subject_id == \"B06\":\n",
    "        #continue\n",
    "    #read file\n",
    "    datadf = pd.read_csv(path3+\"//\"+subject_id+\"_date_restricted.csv\", header = 0)\n",
    "    #calculate time difference\n",
    "    datadf=datadf.assign(Delta=\"NaN\")\n",
    "    for x in range(len(datadf)):\n",
    "        datadf.iloc[x,5]=(datetime.strptime(datadf.iloc[x,2],\"%Y-%m-%d\")-datetime.strptime(min(datadf[\"Date\"]),\"%Y-%m-%d\")).days\n",
    "    #add new column to calculate which week it is\n",
    "    datadf = datadf.assign(Week = \"NaN\")\n",
    "    for x in range(len(datadf)):\n",
    "        datadf.iloc[x,6] = int(datadf.iloc[x,5]/5)\n",
    "    #overwrite baseline week based on day of week?\n",
    "    datadf.to_csv(\"/Users/mathuser/Documents/Perl Lab Rat Data/cut_week_calcs/\"+ subject_id + \"_cut_week_calc.csv\")\n",
    "    #calculate means of week\n",
    "    meandf = datadf\n",
    "    meandf[\"Score\"]=meandf[\"Score\"].astype(\"int\")\n",
    "    meandf = meandf.groupby(\"Week\",as_index=False)[\"Score\"].mean()\n",
    "    #calculate variance of week\n",
    "    vardf = datadf\n",
    "    vardf[\"Score\"] = vardf[\"Score\"].astype(\"int\")\n",
    "    vardf = vardf.groupby(\"Week\", as_index=False)[\"Score\"].var()\n",
    "    vardf = vardf.rename(columns = {\"Week\":\"Week\",\"Score\":\"Variance\"})\n",
    "    #combine mean and variance\n",
    "    statdf = pd.concat([meandf,vardf[\"Variance\"]], axis=1)\n",
    "    #save to csv\n",
    "    statdf.to_csv(\"/Users/mathuser/Documents/Perl Lab Rat Data/new_pasta_mean/\"+ subject_id + \"_new_pasta_mean.csv\")\n",
    "    #make a scatter plot of cut data\n",
    "    graph = statdf.plot(kind=\"scatter\", x=\"Week\", y=\"Score\",title = subject_id, yerr=\"Variance\")\n",
    "    fig = graph.get_figure()\n",
    "    fig.savefig(\"/Users/mathuser/Documents/Perl Lab Rat Data/cut_graphs/\"+subject_id+\"_cut_plot.png\")\n",
    "    plt.close(\"all\")\n",
    "print(\"Done!\")"
   ]
  },
  {
   "cell_type": "code",
   "execution_count": 70,
   "metadata": {},
   "outputs": [],
   "source": [
    "#separate the subjects based on whether or not they got stimulation & make csv\n",
    "#stimulation dataframe\n",
    "stimdf = pd.DataFrame()\n",
    "refdf = pd.read_csv(refpath + \"//subject_ref.csv\", header = 0)\n",
    "cutpath = \"/Users/mathuser/Documents/Perl Lab Rat Data/cut_week_calcs/\"\n",
    "stim = []\n",
    "nostim = []\n",
    "#populate the lists of stim an no stilm\n",
    "for x in range(len(refdf)):\n",
    "    if refdf.iloc[x,6] == 1:\n",
    "        stim.append(refdf.iloc[x,0])\n",
    "    else:\n",
    "        nostim.append(refdf.iloc[x,0])"
   ]
  },
  {
   "cell_type": "code",
   "execution_count": 73,
   "metadata": {
    "collapsed": true
   },
   "outputs": [],
   "source": [
    "#make the stim files\n",
    "for filename in os.listdir(cutpath):\n",
    "    if filename.startswith(\".\"):\n",
    "        continue\n",
    "    subject_id = (filename.split(\".\")[0]).split(\"_\")[0]\n",
    "    #read the cut file, and make a new dataframe based on it\n",
    "    if subject_id in stim:\n",
    "        datadf = pd.read_csv(cutpath + subject_id + \"_cut_week_calc.csv\")\n",
    "        stimsubdf = pd.DataFrame()\n",
    "        stimsubdf[\"Week\"] = datadf[\"Week\"]\n",
    "        stimsubdf[\"Date\"] = datadf[\"Date\"]\n",
    "        stimsubdf[\"Score\"] = datadf[\"Score\"]\n",
    "        stimsubdf[\"subject_id\"] = subject_id\n",
    "        cols = stimsubdf.columns.tolist()\n",
    "        cols = cols[-1:] + cols[:-1]\n",
    "        stimsubdf = stimsubdf[cols]\n",
    "        stimsubdf.to_csv(\"/Users/mathuser/Documents/Perl Lab Rat Data/stim_ind_file/\" + subject_id + \"_ind.csv\")\n",
    "    else:\n",
    "        continue\n",
    "#define paths\n",
    "indpath = \"/Users/mathuser/Documents/Perl Lab Rat Data/stim_ind_file/\"\n",
    "allFiles = glob.glob(indpath + \"*.csv\")\n",
    "#open all files that are in the stim folder\n",
    "df_from_each_file = (pd.read_csv(f) for f in allFiles)\n",
    "stimdf = pd.concat(df_from_each_file, ignore_index=True)\n",
    "stimdf = stimdf.reset_index(drop=True)\n",
    "stimdf = stimdf.drop(stimdf.columns[0],axis=1)\n",
    "#save all as csv\n",
    "stimdf.to_csv(refpath + \"/\" + \"all_stim.csv\")\n",
    "#make the graph from the DataFrame\n",
    "stimgraph = stimdf.plot(kind=\"scatter\", x=\"Week\", y=\"Score\",title =\"All Stim\")\n",
    "stimfig = stimgraph.get_figure()\n",
    "stimfig.savefig(refpath+\"/all_stim.png\")\n",
    "plt.close(\"all\")"
   ]
  },
  {
   "cell_type": "code",
   "execution_count": 74,
   "metadata": {},
   "outputs": [],
   "source": [
    "#separate the subjects based on whether or not they got stimulation & make csv\n",
    "#no stimulation dataframe\n",
    "nostimdf = pd.DataFrame()\n",
    "#open each file and make a new file\n",
    "for filename in os.listdir(cutpath):\n",
    "    if filename.startswith(\".\"):\n",
    "        continue\n",
    "    subject_id = (filename.split(\".\")[0]).split(\"_\")[0]\n",
    "    if subject_id in nostim:\n",
    "        datadf = pd.read_csv(cutpath + subject_id + \"_cut_week_calc.csv\")\n",
    "        nostimsubdf = pd.DataFrame()\n",
    "        nostimsubdf[\"Week\"] = datadf[\"Week\"]\n",
    "        nostimsubdf[\"Date\"] = datadf[\"Date\"]\n",
    "        nostimsubdf[\"Score\"] = datadf[\"Score\"]\n",
    "        nostimsubdf[\"subject_id\"] = subject_id\n",
    "        cols = nostimsubdf.columns.tolist()\n",
    "        cols = cols[-1:] + cols[:-1]\n",
    "        nostimsubdf = nostimsubdf[cols]\n",
    "        nostimsubdf.to_csv(\"/Users/mathuser/Documents/Perl Lab Rat Data/no_stim_ind_file/\" + subject_id + \"_ind.csv\")\n",
    "    else:\n",
    "        continue\n",
    "#set paths\n",
    "no_indpath = \"/Users/mathuser/Documents/Perl Lab Rat Data/no_stim_ind_file/\"\n",
    "allFiles = glob.glob(no_indpath + \"*.csv\")\n",
    "#open all files in the no stim folder\n",
    "no_stim_df_from_each_file = (pd.read_csv(f) for f in allFiles)\n",
    "#concatenate all the files \n",
    "nostimdf = pd.concat(no_stim_df_from_each_file, ignore_index=True)\n",
    "nostimdf = nostimdf.reset_index(drop=True)\n",
    "nostimdf = nostimdf.drop(stimdf.columns[0],axis=1)\n",
    "#save as csv\n",
    "nostimdf.to_csv(refpath + \"/\" + \"all_nostim.csv\")\n",
    "#make a plot\n",
    "nostimgraph = nostimdf.plot(kind=\"scatter\", x=\"Week\", y=\"Score\",title =\"All No Stim\")\n",
    "nostimfig = nostimgraph.get_figure()\n",
    "nostimfig.savefig(refpath+\"/no_stim.png\")\n",
    "plt.close(\"all\")"
   ]
  },
  {
   "cell_type": "code",
   "execution_count": 72,
   "metadata": {},
   "outputs": [
    {
     "data": {
      "text/plain": [
       "['A09', 'A08', 'A17', 'AA06', 'B04', 'B06']"
      ]
     },
     "execution_count": 72,
     "metadata": {},
     "output_type": "execute_result"
    }
   ],
   "source": [
    "stim"
   ]
  },
  {
   "cell_type": "code",
   "execution_count": null,
   "metadata": {
    "collapsed": true
   },
   "outputs": [],
   "source": []
  }
 ],
 "metadata": {
  "kernelspec": {
   "display_name": "Python 3",
   "language": "python",
   "name": "python3"
  },
  "language_info": {
   "codemirror_mode": {
    "name": "ipython",
    "version": 3
   },
   "file_extension": ".py",
   "mimetype": "text/x-python",
   "name": "python",
   "nbconvert_exporter": "python",
   "pygments_lexer": "ipython3",
   "version": "3.6.3"
  }
 },
 "nbformat": 4,
 "nbformat_minor": 2
}
